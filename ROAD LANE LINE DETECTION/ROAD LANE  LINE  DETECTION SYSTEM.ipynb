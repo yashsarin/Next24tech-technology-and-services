{
 "cells": [
  {
   "cell_type": "code",
   "execution_count": 9,
   "id": "de56e8cd-929e-4bab-a8d6-14e39c2f5964",
   "metadata": {},
   "outputs": [],
   "source": [
    "import cv2\n",
    "import numpy as np"
   ]
  },
  {
   "cell_type": "code",
   "execution_count": 11,
   "id": "3230b87f-49d4-4f44-9616-b75ac12a708d",
   "metadata": {},
   "outputs": [],
   "source": [
    "video = cv2.VideoCapture(\"road_car_view.mp4\")"
   ]
  },
  {
   "cell_type": "code",
   "execution_count": null,
   "id": "75f723db-c0cf-4f0f-b88d-c5fc01c21732",
   "metadata": {},
   "outputs": [],
   "source": [
    "while True:\n",
    "    ret, or_frame = video.read()\n",
    "\n",
    "    if not ret:\n",
    "        break\n",
    "\n",
    "    blurred_frame = cv2.GaussianBlur(or_frame, (5, 5), 0)\n",
    "    hsv = cv2.cvtColor(blurred_frame, cv2.COLOR_BGR2HSV)\n",
    "\n",
    "    lower_y = np.array([18, 94, 140])\n",
    "    upper_y = np.array([18, 255, 255])\n",
    "\n",
    "    mask = cv2.inRange(hsv, lower_y, upper_y)\n",
    "    edges = cv2.Canny(mask, 74, 150)\n",
    "    lines = cv2.HoughLinesP(edges, 1, np.pi / 180, 50, maxLineGap=50)\n",
    "\n",
    "    if lines is not None:\n",
    "        for line in lines:\n",
    "            x1, y1, x2, y2 = line[0]\n",
    "            cv2.line(or_frame, (x1, y1), (x2, y2), (0, 255, 0), 5)\n",
    "\n",
    "    cv2.imshow(\"frame\", or_frame)\n",
    "    cv2.imshow(\"edges\", edges)\n",
    "\n",
    "    key = cv2.waitKey(25)\n",
    "    if key == 27:\n",
    "        break"
   ]
  },
  {
   "cell_type": "code",
   "execution_count": null,
   "id": "146f82a3-6468-4277-94ae-7d7f5f8e46bf",
   "metadata": {},
   "outputs": [],
   "source": [
    "video.release()\n",
    "cv2.destroyAllWindows()"
   ]
  },
  {
   "cell_type": "code",
   "execution_count": null,
   "id": "6360f032-072e-455a-b604-68bddf4578e0",
   "metadata": {},
   "outputs": [],
   "source": []
  }
 ],
 "metadata": {
  "kernelspec": {
   "display_name": "Python 3 (ipykernel)",
   "language": "python",
   "name": "python3"
  },
  "language_info": {
   "codemirror_mode": {
    "name": "ipython",
    "version": 3
   },
   "file_extension": ".py",
   "mimetype": "text/x-python",
   "name": "python",
   "nbconvert_exporter": "python",
   "pygments_lexer": "ipython3",
   "version": "3.11.7"
  }
 },
 "nbformat": 4,
 "nbformat_minor": 5
}
